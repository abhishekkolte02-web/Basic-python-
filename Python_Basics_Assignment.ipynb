{
  "nbformat": 4,
  "nbformat_minor": 0,
  "metadata": {
    "colab": {
      "provenance": []
    },
    "kernelspec": {
      "name": "python3",
      "display_name": "Python 3"
    },
    "language_info": {
      "name": "python"
    }
  },
  "cells": [
    {
      "cell_type": "markdown",
      "source": [
        "**Q.1. What is Python, and why is it popular?**\n",
        "  - Python is a programming language\n",
        "  - It is compatible with various programming paradigims, such as prcedural, object-oriented, and functional programming.\n",
        "  - which is easy to understand and write, making it popular choice among developers and proggrammers.\n",
        "  "
      ],
      "metadata": {
        "id": "poBRH1xQ6fWA"
      }
    },
    {
      "cell_type": "markdown",
      "source": [
        "**Q.2. What is an interpreter in Python?**\n",
        "  - An iterpreter is a program that reads and execute python code line by line, translateing it to a machine code that computer can understand."
      ],
      "metadata": {
        "id": "Mt3WK0e36eE5"
      }
    },
    {
      "cell_type": "markdown",
      "source": [
        "**Q.3. What are pre-defined keywords in Python?**\n",
        "  - Keywords are reserved words in a Python\n",
        "  - this words have such a special meaning which can not be used as variable names.\n",
        "  - Keywords are case sensetive and cannot be redefined or overridden within a python program.\n",
        "  - Examples of keywords: if, else.\n",
        "  "
      ],
      "metadata": {
        "id": "Ogxax9aQ7fGq"
      }
    },
    {
      "cell_type": "markdown",
      "source": [
        "**Q.4. Can keywords be used as variable names?**\n",
        "  - Kewords are reserved names in a python which has some specific meaning and cannot be use as a variable."
      ],
      "metadata": {
        "id": "mMARTmdQ7fOv"
      }
    },
    {
      "cell_type": "markdown",
      "source": [
        "**Q.5. What is mutability in Python?**\n",
        "  - In python, object can either changable or unchangable\n",
        "  - Mutable object such as a list and dictioneries can modified after creation.\n",
        "  - It affects how object store and manupulated in memory."
      ],
      "metadata": {
        "id": "1UCI82Z17fSK"
      }
    },
    {
      "cell_type": "markdown",
      "source": [
        "**Q.6. Why are lists mutable, but tuples are immutable?**\n",
        "  - Mutable objects can be changed and a list is a mutable object so it can change but immutable objeccts cannot be change and tuples are immutable objects."
      ],
      "metadata": {
        "id": "RgTc72v57fWh"
      }
    },
    {
      "cell_type": "markdown",
      "source": [
        "**Q.7. What is the difference between “==” and “is” operators in Python?**\n",
        "  - \"==\" it is a equality operator which compares the values of two        objects. it checks if two objects have same value it compares whats inside the object.\n",
        "  - Verifies if two reference point to the exact same object in memory. it is a identity operator."
      ],
      "metadata": {
        "id": "P3hre6lB-3zP"
      }
    },
    {
      "cell_type": "markdown",
      "source": [
        "**Q.8. What are logical operators in Python?**\n",
        "  - and, or  are the logical operators in python\n",
        "  - and -> Returns true only if boyh operands are true otherwise it returns false\n",
        "  - or -> Returns true if atleast one operands is true return false only when both are false."
      ],
      "metadata": {
        "id": "6Koje79j-58t"
      }
    },
    {
      "cell_type": "markdown",
      "source": [
        "**Q.9 What is type casting in Python?**\n",
        "  - Type casting is also referred to as type conversion it is a process of changing one data type to another.\n",
        "  - Type casting is a process of converting a value from one data type to another either automatically (impicit) or manually (explicit)\n",
        "  - it occurs when python automatically converts data type during expression evaluation e.g\n",
        "  x = 10\n",
        "  y = 3.14\n",
        "  z = x + y\n",
        "  the result after running this code is 13.14 here python imlicitly converts x which is int to float.\n",
        "  - explicit means manually converting a value using python functions which includes int, float function e.g x = 10.5 which is a float but i used this function print(type(int(10.5))) this code gives result as class int  \n"
      ],
      "metadata": {
        "id": "M_wHF-hK-5_W"
      }
    },
    {
      "cell_type": "markdown",
      "source": [
        "**Q.10. What is the difference between implicit and explicit type casting?\n",
        "**  \n",
        "  - implicit type casting means python automatically converts value from one data type to another data type. where in explicit we have to convert the data type by using in built functions of python such as int and float.\n",
        "  - for example in implicit if we run\n",
        "  x = 10\n",
        "  y=13.5\n",
        "   x + y = 13.5 in this python automatically converts the datat type into float\n",
        " - in explict if we want to change data type as x = 1 is int to float we have to use  float funtion to convert it into float that is 1.0\n"
      ],
      "metadata": {
        "id": "RPQflh_N-6B-"
      }
    },
    {
      "cell_type": "markdown",
      "source": [
        "**Q.11. What is the purpose of conditional statements in Python **\n",
        "  - Conditional statement in python let your program make decision, control according to condition to execute a specific code\n",
        "  - it helps to run code react differently while giving different inputs\n",
        "  - It executes code only when the specif conditions are met."
      ],
      "metadata": {
        "id": "rOOvZGcXKRTC"
      }
    },
    {
      "cell_type": "markdown",
      "source": [
        "**Q.12.How does the elif statement work?**\n",
        "  - The elif keyword which stands for \"else if\" which allows to check additonal conditions in sequence after an intial if. if the first condition is false it moves to the elif condition.\n",
        "  - it continues down the chain until it reaches to else."
      ],
      "metadata": {
        "id": "nvCHsdZsLBzi"
      }
    },
    {
      "cell_type": "markdown",
      "source": [
        "**Q.13.What is the difference between for and while loops?**\n",
        "  - loop iterates over a sequences or iterable(eg. ilst, range, string)\n",
        "  Number of iteration is known or defined by the sequense\n",
        "  - while loop runs based on the conditions, continues until the condition becomes false. Number of iterations may be unknown beforehand."
      ],
      "metadata": {
        "id": "t16PHqGiLB2C"
      }
    },
    {
      "cell_type": "markdown",
      "source": [
        "**Practical Questions**"
      ],
      "metadata": {
        "id": "2PhBU6upOJEW"
      }
    },
    {
      "cell_type": "code",
      "source": [
        "# Q.1. Write a Python program to print \"Hello, World!\n",
        "print(\"Hello, World!\")\n"
      ],
      "metadata": {
        "colab": {
          "base_uri": "https://localhost:8080/"
        },
        "id": "dAZIB5HDOOiC",
        "outputId": "967835a9-c1db-45ee-ce0e-1bba764ea799"
      },
      "execution_count": 8,
      "outputs": [
        {
          "output_type": "stream",
          "name": "stdout",
          "text": [
            "Hello, World!\n"
          ]
        }
      ]
    },
    {
      "cell_type": "code",
      "source": [
        "# Q.2.  Write a Python program that displays your name and age?\n",
        "name = input(\"enter your name:\")\n",
        "age = input (\"enter your age:\")\n",
        "\n"
      ],
      "metadata": {
        "colab": {
          "base_uri": "https://localhost:8080/"
        },
        "id": "iZsmJ4aqOnHa",
        "outputId": "458cffa9-09f3-478a-85ee-5e1b2a231a06"
      },
      "execution_count": 26,
      "outputs": [
        {
          "name": "stdout",
          "output_type": "stream",
          "text": [
            "enter your name:Rahul \n",
            "enter your age:12\n"
          ]
        }
      ]
    },
    {
      "cell_type": "code",
      "source": [
        "# Q.3. Write code to print all the pre-defined keywords in Python using the keyword library\n",
        "help(\"keywords\")"
      ],
      "metadata": {
        "colab": {
          "base_uri": "https://localhost:8080/"
        },
        "id": "o_aaAJkrQ6dt",
        "outputId": "ec0914cd-c0b1-417c-944b-26c35c6a2c73"
      },
      "execution_count": 28,
      "outputs": [
        {
          "output_type": "stream",
          "name": "stdout",
          "text": [
            "\n",
            "Here is a list of the Python keywords.  Enter any keyword to get more help.\n",
            "\n",
            "False               class               from                or\n",
            "None                continue            global              pass\n",
            "True                def                 if                  raise\n",
            "and                 del                 import              return\n",
            "as                  elif                in                  try\n",
            "assert              else                is                  while\n",
            "async               except              lambda              with\n",
            "await               finally             nonlocal            yield\n",
            "break               for                 not                 \n",
            "\n"
          ]
        }
      ]
    },
    {
      "cell_type": "code",
      "source": [
        "# Q.4. Write a program that checks if a given word is a Python keyword.\n"
      ],
      "metadata": {
        "id": "jZeDxq2fRbBN"
      },
      "execution_count": 29,
      "outputs": []
    },
    {
      "cell_type": "code",
      "source": [
        "# Q.5.Create a list and tuple in Python, and demonstrate how attempting to change an element works differently\n",
        "#for each.\n"
      ],
      "metadata": {
        "id": "rkoTcBOVSaau"
      },
      "execution_count": 31,
      "outputs": []
    },
    {
      "cell_type": "code",
      "source": [
        "# Q.7. Write a program that performs basic arithmetic operations on two user-input numbers.\n",
        "\n",
        "a = 12\n",
        "b = 12\n",
        "a + b"
      ],
      "metadata": {
        "colab": {
          "base_uri": "https://localhost:8080/"
        },
        "id": "A7sv9oPQU6nT",
        "outputId": "aff30beb-2a1f-4346-c447-807a5cfcde04"
      },
      "execution_count": 48,
      "outputs": [
        {
          "output_type": "execute_result",
          "data": {
            "text/plain": [
              "24"
            ]
          },
          "metadata": {},
          "execution_count": 48
        }
      ]
    },
    {
      "cell_type": "code",
      "source": [
        "# Q.8. Write a program to demonstrate the use of logical operators.\n",
        "10 and 0"
      ],
      "metadata": {
        "colab": {
          "base_uri": "https://localhost:8080/"
        },
        "id": "TyOxPy2WVRYe",
        "outputId": "16e7953f-0b5c-4f94-fb74-b4e1e57ce1e9"
      },
      "execution_count": 51,
      "outputs": [
        {
          "output_type": "execute_result",
          "data": {
            "text/plain": [
              "0"
            ]
          },
          "metadata": {},
          "execution_count": 51
        }
      ]
    },
    {
      "cell_type": "code",
      "source": [
        "# Q.6. Write a function to demonstrate the behavior of mutable and immutable arguments\n",
        "list_count=(1,2,3,4,\"ramesh\")\n",
        "list_count"
      ],
      "metadata": {
        "colab": {
          "base_uri": "https://localhost:8080/"
        },
        "id": "R6lO8CV1WYYV",
        "outputId": "5796c40f-ace6-499f-ce36-02ba08fb8ac4"
      },
      "execution_count": 53,
      "outputs": [
        {
          "output_type": "execute_result",
          "data": {
            "text/plain": [
              "(1, 2, 3, 4, 'ramesh')"
            ]
          },
          "metadata": {},
          "execution_count": 53
        }
      ]
    },
    {
      "cell_type": "code",
      "source": [
        "#Q.9. Write a Python program to convert user input from string to integer, float, and boolean types.\n",
        "age = input(\"enter your age:\")"
      ],
      "metadata": {
        "colab": {
          "base_uri": "https://localhost:8080/"
        },
        "id": "XmoFh4YBXdEt",
        "outputId": "8e3d6a7c-d961-4fb9-f955-29bd8f862fb0"
      },
      "execution_count": 77,
      "outputs": [
        {
          "name": "stdout",
          "output_type": "stream",
          "text": [
            "enter your age:12\n"
          ]
        }
      ]
    },
    {
      "cell_type": "code",
      "source": [
        "Age = int(age)"
      ],
      "metadata": {
        "id": "GLQmRK-iYFj6"
      },
      "execution_count": 65,
      "outputs": []
    },
    {
      "cell_type": "code",
      "source": [
        "type(Age)"
      ],
      "metadata": {
        "colab": {
          "base_uri": "https://localhost:8080/"
        },
        "id": "EOJ0xiflYUC0",
        "outputId": "9ee57b83-cb0b-47ec-b208-f18ecca21502"
      },
      "execution_count": 67,
      "outputs": [
        {
          "output_type": "execute_result",
          "data": {
            "text/plain": [
              "int"
            ]
          },
          "metadata": {},
          "execution_count": 67
        }
      ]
    },
    {
      "cell_type": "code",
      "source": [
        "as_float = input(\"enter a number:\")"
      ],
      "metadata": {
        "colab": {
          "base_uri": "https://localhost:8080/"
        },
        "id": "JB63WaLyYxWn",
        "outputId": "c08bc3d4-c5a9-40b1-f603-afe195327a0d"
      },
      "execution_count": 68,
      "outputs": [
        {
          "name": "stdout",
          "output_type": "stream",
          "text": [
            "enter a number:12.5\n"
          ]
        }
      ]
    },
    {
      "cell_type": "code",
      "source": [
        "As_float = float(as_float)"
      ],
      "metadata": {
        "id": "g_UMkzbmZEI1"
      },
      "execution_count": 69,
      "outputs": []
    },
    {
      "cell_type": "code",
      "source": [
        "type(As_float)"
      ],
      "metadata": {
        "colab": {
          "base_uri": "https://localhost:8080/"
        },
        "id": "je3Df3y-ZRPS",
        "outputId": "140b1e74-35e8-4736-eaf7-c3a061906ad4"
      },
      "execution_count": 70,
      "outputs": [
        {
          "output_type": "execute_result",
          "data": {
            "text/plain": [
              "float"
            ]
          },
          "metadata": {},
          "execution_count": 70
        }
      ]
    },
    {
      "cell_type": "code",
      "source": [
        "as_boolean = input(\"age:\")"
      ],
      "metadata": {
        "colab": {
          "base_uri": "https://localhost:8080/"
        },
        "id": "kUR45-MgZT4G",
        "outputId": "0521961d-9e0e-4903-b890-8552f2cb0af5"
      },
      "execution_count": 72,
      "outputs": [
        {
          "name": "stdout",
          "output_type": "stream",
          "text": [
            "age:12\n"
          ]
        }
      ]
    },
    {
      "cell_type": "code",
      "source": [
        "As_boolean = bool(as_boolean)"
      ],
      "metadata": {
        "id": "zJFBnafDZmxa"
      },
      "execution_count": 75,
      "outputs": []
    },
    {
      "cell_type": "code",
      "source": [
        "type(As_boolean)"
      ],
      "metadata": {
        "colab": {
          "base_uri": "https://localhost:8080/"
        },
        "id": "PaQLGoaBZ3Bu",
        "outputId": "98fa3984-507d-44be-989a-a3220b9a5178"
      },
      "execution_count": 78,
      "outputs": [
        {
          "output_type": "execute_result",
          "data": {
            "text/plain": [
              "bool"
            ]
          },
          "metadata": {},
          "execution_count": 78
        }
      ]
    },
    {
      "cell_type": "code",
      "source": [
        "#Q.12. Write a for loop to print numbers from 1 to 10.\n"
      ],
      "metadata": {
        "id": "pvm4joghdW4S"
      },
      "execution_count": 90,
      "outputs": []
    },
    {
      "cell_type": "code",
      "source": [
        "n = 11\n",
        "i = 1\n",
        "while i < n:\n",
        "  print(i)\n",
        "  i = i + 1"
      ],
      "metadata": {
        "colab": {
          "base_uri": "https://localhost:8080/",
          "height": 193
        },
        "id": "aKAnfN8xd_3W",
        "outputId": "d8458bcf-cb63-45d2-8549-8f7405332bb8"
      },
      "execution_count": 92,
      "outputs": [
        {
          "output_type": "error",
          "ename": "TypeError",
          "evalue": "'str' object is not callable",
          "traceback": [
            "\u001b[0;31m---------------------------------------------------------------------------\u001b[0m",
            "\u001b[0;31mTypeError\u001b[0m                                 Traceback (most recent call last)",
            "\u001b[0;32m/tmp/ipython-input-295321661.py\u001b[0m in \u001b[0;36m<cell line: 0>\u001b[0;34m()\u001b[0m\n\u001b[1;32m      2\u001b[0m \u001b[0mi\u001b[0m \u001b[0;34m=\u001b[0m \u001b[0;36m1\u001b[0m\u001b[0;34m\u001b[0m\u001b[0;34m\u001b[0m\u001b[0m\n\u001b[1;32m      3\u001b[0m \u001b[0;32mwhile\u001b[0m \u001b[0mi\u001b[0m \u001b[0;34m<\u001b[0m \u001b[0mn\u001b[0m\u001b[0;34m:\u001b[0m\u001b[0;34m\u001b[0m\u001b[0;34m\u001b[0m\u001b[0m\n\u001b[0;32m----> 4\u001b[0;31m   \u001b[0mprint\u001b[0m\u001b[0;34m(\u001b[0m\u001b[0mi\u001b[0m\u001b[0;34m)\u001b[0m\u001b[0;34m\u001b[0m\u001b[0;34m\u001b[0m\u001b[0m\n\u001b[0m\u001b[1;32m      5\u001b[0m   \u001b[0mi\u001b[0m \u001b[0;34m=\u001b[0m \u001b[0mi\u001b[0m \u001b[0;34m+\u001b[0m \u001b[0;36m1\u001b[0m\u001b[0;34m\u001b[0m\u001b[0;34m\u001b[0m\u001b[0m\n",
            "\u001b[0;31mTypeError\u001b[0m: 'str' object is not callable"
          ]
        }
      ]
    },
    {
      "cell_type": "code",
      "source": [],
      "metadata": {
        "id": "dkg0K4WSeLgm"
      },
      "execution_count": null,
      "outputs": []
    }
  ]
}